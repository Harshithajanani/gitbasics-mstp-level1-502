{
 "cells": [
  {
   "cell_type": "markdown",
   "metadata": {},
   "source": [
    "### Regular expressions"
   ]
  },
  {
   "cell_type": "markdown",
   "metadata": {},
   "source": [
    " 1.abc-->that matches the character sequence anywhere in the string\n",
    " 2.^--->beginning of the string\n",
    " 3.$--->end of the string\n",
    " 4.a|b-->either a or b\n",
    " 5.^abc|abc$-->the string abc at the beginning or at the end of the string\n",
    " 6.ab{2,4}c-->in {} we can write range ex--{2,10},min=2,max=10\n",
    "    ex..^a[a-z]{2,10}[A-Z]{2,5}s$\n",
    " 7.ab{2,}-->an a followed by atleast two b's followed by a c\n",
    " 8.ab*c-->an a followed by \n",
    " 9.----->rollnumber validation---^[0-9]{2}([0-9]|[a-z]|[A-Z]){2}1([A-Z]|[a-z])0[1-5]([0-9]|[a-z]|[A-Z]){2}$\n",
    " 10. length of user name 6-15\n",
    " special characters\n",
    " domain name---3-10\n",
    " -->gmail--^([a-z]|[0-9]|[A-Z])([a-z]|[0-9]|[A-Z][_]){6,14}([0-9]|[a-z])@[a-z]{2,10}[.][a-z]{2,4}$"
   ]
  },
  {
   "cell_type": "markdown",
   "metadata": {},
   "source": [
    "### Phonenum validation"
   ]
  },
  {
   "cell_type": "code",
   "execution_count": 11,
   "metadata": {},
   "outputs": [
    {
     "name": "stdout",
     "output_type": "stream",
     "text": [
      "1\n",
      "1\n",
      "1\n"
     ]
    }
   ],
   "source": [
    "#^[0][6-9][0-9]{9}$---10 digit num starting with zero\n",
    "#^+91[6789][0-9]{9}$---10 digit number starting with +91\n",
    "#^[6-9][0-9]{9}$\n",
    "\n",
    "import re\n",
    "def phoneno(no):\n",
    "    pattern='^[+][9][1][6789][0-9]{9}$|^[6-9][0-9]{9}$|^[0][6-9][0-9]{9}$'\n",
    "    if re.match(pattern,str(no)):\n",
    "        return 1\n",
    "    else:\n",
    "        return 0\n",
    "print(phoneno(\"9440821389\"))\n",
    "print(phoneno(\"+917287878990\"))\n",
    "print(phoneno(\"08330969611\"))\n"
   ]
  },
  {
   "cell_type": "markdown",
   "metadata": {},
   "source": [
    "## Email validation"
   ]
  },
  {
   "cell_type": "code",
   "execution_count": 10,
   "metadata": {},
   "outputs": [
    {
     "data": {
      "text/plain": [
       "1"
      ]
     },
     "execution_count": 10,
     "metadata": {},
     "output_type": "execute_result"
    }
   ],
   "source": [
    "import re\n",
    "def email(name):\n",
    "    pattern='^([a-z]|[0-9]|[A-Z])([a-z]|[0-9]|[A-Z][_]){6,14}([0-9]|[a-z])@[a-z]{2,10}[.][a-z]{2,4}$'\n",
    "    if re.match(pattern,str(name)):\n",
    "        return 1\n",
    "    else:\n",
    "        return 0\n",
    "email(\"harshitagowri10@gmail.com\")\n",
    "\n",
    "    "
   ]
  },
  {
   "cell_type": "code",
   "execution_count": null,
   "metadata": {},
   "outputs": [],
   "source": [
    "d={'harshi':[7287878990,harikasreedhar@gmail.com]}\n",
    "\n"
   ]
  }
 ],
 "metadata": {
  "kernelspec": {
   "display_name": "Python 3",
   "language": "python",
   "name": "python3"
  },
  "language_info": {
   "codemirror_mode": {
    "name": "ipython",
    "version": 3
   },
   "file_extension": ".py",
   "mimetype": "text/x-python",
   "name": "python",
   "nbconvert_exporter": "python",
   "pygments_lexer": "ipython3",
   "version": "3.7.3"
  }
 },
 "nbformat": 4,
 "nbformat_minor": 2
}
