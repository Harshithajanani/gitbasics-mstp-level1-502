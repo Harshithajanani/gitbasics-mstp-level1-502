{
 "cells": [
  {
   "cell_type": "markdown",
   "metadata": {},
   "source": [
    "### 1.Check if the number exist in a given range"
   ]
  },
  {
   "cell_type": "code",
   "execution_count": 3,
   "metadata": {},
   "outputs": [
    {
     "name": "stdout",
     "output_type": "stream",
     "text": [
      "10\n",
      "1\n",
      "20\n",
      "in range--> 10\n"
     ]
    }
   ],
   "source": [
    "def number(n):\n",
    "    if  n in range(lb,ub):\n",
    "        print(\"in range-->\",n)\n",
    "    else:\n",
    "        print(\"not in range-->\",n)\n",
    "n=int(input())\n",
    "lb=int(input())\n",
    "ub=int(input())\n",
    "number(n)\n",
    "            \n",
    "        \n",
    "    "
   ]
  },
  {
   "cell_type": "markdown",
   "metadata": {},
   "source": [
    "### 2.Check the number of digits in a number"
   ]
  },
  {
   "cell_type": "code",
   "execution_count": 4,
   "metadata": {},
   "outputs": [
    {
     "name": "stdout",
     "output_type": "stream",
     "text": [
      "1234\n",
      "4\n"
     ]
    }
   ],
   "source": [
    "def digit(n):\n",
    "    b=len(n)\n",
    "    print(b)\n",
    "n=input()\n",
    "digit(n)"
   ]
  },
  {
   "cell_type": "markdown",
   "metadata": {},
   "source": [
    "### 3.Check if the num is a factor of 1000 "
   ]
  },
  {
   "cell_type": "code",
   "execution_count": 3,
   "metadata": {},
   "outputs": [
    {
     "name": "stdout",
     "output_type": "stream",
     "text": [
      "9\n",
      "not\n"
     ]
    }
   ],
   "source": [
    "def factor(i):\n",
    "    if((1000%i)==0):\n",
    "        print(\"yes\")\n",
    "    else:\n",
    "        print(\"not\")\n",
    "i=int(input())\n",
    "factor(i)"
   ]
  },
  {
   "cell_type": "markdown",
   "metadata": {},
   "source": [
    "### 4.Calculate the squareroot of a given number"
   ]
  },
  {
   "cell_type": "code",
   "execution_count": 4,
   "metadata": {},
   "outputs": [
    {
     "name": "stdout",
     "output_type": "stream",
     "text": [
      "6\n",
      "2.449489742783178\n"
     ]
    }
   ],
   "source": [
    "def squareroot(n):\n",
    "    print(n**(1/2))\n",
    "n=int(input())\n",
    "squareroot(n)"
   ]
  },
  {
   "cell_type": "markdown",
   "metadata": {},
   "source": [
    "### 5.Take values of length and breadth of rectangle from user and check if it is square or not"
   ]
  },
  {
   "cell_type": "code",
   "execution_count": 8,
   "metadata": {},
   "outputs": [
    {
     "name": "stdout",
     "output_type": "stream",
     "text": [
      "4\n",
      "4\n",
      "square\n"
     ]
    }
   ],
   "source": [
    "def square(l,b):\n",
    "    if(l==b):\n",
    "        print(\"square\")\n",
    "    else:\n",
    "        print(\"rectangle\")\n",
    "l=int(input())\n",
    "b=int(input())\n",
    "square(l,b)"
   ]
  },
  {
   "cell_type": "markdown",
   "metadata": {},
   "source": [
    "### 6.A school has following in grade system\n",
    "* below25-f\n",
    "* 25-45-E\n",
    "* 45-50-D\n",
    "* 50-60-C\n",
    "* 60-80-B\n",
    "* Above-80-A"
   ]
  },
  {
   "cell_type": "code",
   "execution_count": 2,
   "metadata": {},
   "outputs": [
    {
     "name": "stdout",
     "output_type": "stream",
     "text": [
      "74\n",
      "B\n"
     ]
    }
   ],
   "source": [
    "def grade(m):\n",
    "    \n",
    "    if(m>80):\n",
    "        print(\"A\")\n",
    "    elif(m>60):\n",
    "        print(\"B\")\n",
    "    elif(m>50):\n",
    "        print(\"C\")\n",
    "    elif(m>45):\n",
    "        print(\"D\")\n",
    "    elif(m>=25):\n",
    "         print(\"E\")\n",
    "    elif(m<25):\n",
    "         print(\"F\")\n",
    "m=int(input())\n",
    "grade(m)"
   ]
  },
  {
   "cell_type": "markdown",
   "metadata": {},
   "source": [
    "### 7.Take input of age 0f 3 people by user and determine oldest and youngest among them"
   ]
  },
  {
   "cell_type": "code",
   "execution_count": 12,
   "metadata": {},
   "outputs": [
    {
     "ename": "IndentationError",
     "evalue": "expected an indented block (<ipython-input-12-9f96984129f4>, line 2)",
     "output_type": "error",
     "traceback": [
      "\u001b[1;36m  File \u001b[1;32m\"<ipython-input-12-9f96984129f4>\"\u001b[1;36m, line \u001b[1;32m2\u001b[0m\n\u001b[1;33m    ramesh=int(input())\u001b[0m\n\u001b[1;37m         ^\u001b[0m\n\u001b[1;31mIndentationError\u001b[0m\u001b[1;31m:\u001b[0m expected an indented block\n"
     ]
    }
   ],
   "source": [
    "def people(ramesh,suresh,mahesh):\n",
    "ramesh=int(input())\n",
    "suresh=int(input())\n",
    "mahesh=int(input())\n",
    "        if(ramesh>suresh and ramesh>mahesh):\n",
    "                oldest=ramesh\n",
    "        elif(suresh>ramesh and suresh>mahesh):\n",
    "                oldest=suresh\n",
    "        else:\n",
    "                oldest=mahesh\n",
    "        if(ramesh<suresh and ramesh<mahesh):\n",
    "                young=ramesh\n",
    "        elif(suresh<ramesh and suresh<mahesh):\n",
    "                young=suresh\n",
    "        else:\n",
    "                young=mahesh\n",
    "        print(\"oldest-->\",oldest)\n",
    "        print(\"youngest-->\",young)\n",
    "ramesh=int(input())\n",
    "suresh=int(input())\n",
    "mahesh=int(input())\n",
    "people(ramesh,suresh,mahesh)\n",
    "\n",
    "\n",
    "    "
   ]
  },
  {
   "cell_type": "markdown",
   "metadata": {},
   "source": [
    "### 8.A student will not be allowed to sit in the exam attendence is less than 75%"
   ]
  },
  {
   "cell_type": "code",
   "execution_count": 3,
   "metadata": {},
   "outputs": [
    {
     "name": "stdout",
     "output_type": "stream",
     "text": [
      "365\n",
      "200\n",
      "54.794520547945204\n",
      "not allowed to exam\n"
     ]
    }
   ],
   "source": [
    "def student(ch,ca):\n",
    "    n=(((ca/ch)*100))\n",
    "    print(n)\n",
    "    if(n>=75):\n",
    "        print(\"allowed to exam\")\n",
    "    else:\n",
    "        print(\"not allowed to exam\")\n",
    "ch=int(input())\n",
    "ca=int(input())\n",
    "student(ch,ca)"
   ]
  },
  {
   "cell_type": "code",
   "execution_count": null,
   "metadata": {},
   "outputs": [],
   "source": []
  }
 ],
 "metadata": {
  "kernelspec": {
   "display_name": "Python 3",
   "language": "python",
   "name": "python3"
  },
  "language_info": {
   "codemirror_mode": {
    "name": "ipython",
    "version": 3
   },
   "file_extension": ".py",
   "mimetype": "text/x-python",
   "name": "python",
   "nbconvert_exporter": "python",
   "pygments_lexer": "ipython3",
   "version": "3.7.3"
  }
 },
 "nbformat": 4,
 "nbformat_minor": 2
}
