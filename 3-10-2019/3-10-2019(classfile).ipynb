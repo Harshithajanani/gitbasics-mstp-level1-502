{
 "cells": [
  {
   "cell_type": "markdown",
   "metadata": {},
   "source": [
    "### File handling in python"
   ]
  },
  {
   "cell_type": "markdown",
   "metadata": {},
   "source": [
    "file handling \n",
    "* read--r\n",
    "* write--w\n",
    "* append--a\n",
    "* readwrite--r+\n",
    "* write&read--w+\n",
    "* append&read--a+\n",
    "* exclusive write--x"
   ]
  },
  {
   "cell_type": "code",
   "execution_count": 2,
   "metadata": {},
   "outputs": [],
   "source": [
    "# File opening\n",
    "#file=open(\"sample.txt\",\"mode\")\n"
   ]
  },
  {
   "cell_type": "code",
   "execution_count": 6,
   "metadata": {},
   "outputs": [],
   "source": [
    "#create a file and add some content\n",
    "f=open(\"data.txt\",\"w\")\n",
    "f.write(\"welcome python\")\n",
    "f.write(\"\\nregular expressions\\n\")\n",
    "f.close()"
   ]
  },
  {
   "cell_type": "code",
   "execution_count": 8,
   "metadata": {},
   "outputs": [
    {
     "name": "stdout",
     "output_type": "stream",
     "text": [
      "welcome python\n",
      "regular expressions\n",
      "\n"
     ]
    }
   ],
   "source": [
    "#print content of a file\n",
    "filedata=open(\"data.txt\",'r')\n",
    "f1=filedata.read()\n",
    "print(f1)\n",
    "filedata.close()"
   ]
  },
  {
   "cell_type": "code",
   "execution_count": 19,
   "metadata": {},
   "outputs": [
    {
     "name": "stdout",
     "output_type": "stream",
     "text": [
      "welcome python\n",
      "regular expressions\n",
      "\n"
     ]
    }
   ],
   "source": [
    "# function to print data of a file\n",
    "def read_content(filedata):\n",
    "    filedata=open(\"data.txt\",'r')\n",
    "    f1=filedata.read()\n",
    "    print(f1)\n",
    "filedata=\"data.txt\"\n",
    "read_content(filedata)\n",
    "#filedata.close()"
   ]
  },
  {
   "cell_type": "code",
   "execution_count": 20,
   "metadata": {},
   "outputs": [],
   "source": [
    "# function to write data to a file\n",
    "#data=\"mstp apssdc\"\n",
    "def write_content(filedata):\n",
    "    filedata=open(\"data.txt\",\"w\")\n",
    "    filedata.write(\"mstp apssdc\")\n",
    "filedata=\"data.txt\"\n",
    "write_content(filedata)\n",
    "\n",
    "\n",
    "\n",
    "    "
   ]
  },
  {
   "cell_type": "code",
   "execution_count": 26,
   "metadata": {},
   "outputs": [],
   "source": [
    "# function to add a new content to a file\n",
    "def add_content(filedata):\n",
    "    filedata=open(\"data.txt\",\"a\")\n",
    "    filedata.write(\"\\nhow r u\\n\")\n",
    "    filedata.write(\"python\")\n",
    "filedata=\"data.txt\"\n",
    "add_content(filedata)\n",
    "\n"
   ]
  },
  {
   "cell_type": "code",
   "execution_count": 3,
   "metadata": {},
   "outputs": [
    {
     "name": "stdout",
     "output_type": "stream",
     "text": [
      "mstp apssdchow r u\n",
      "how r u\n",
      "how r u\n",
      "python\n",
      "\n",
      "how r u\n",
      "python\n"
     ]
    }
   ],
   "source": [
    "def read_filecontent(filedata):\n",
    "    filedata=open(\"data.txt\",'r')\n",
    "    f1=filedata.read()\n",
    "    print(f1)\n",
    "filedata=\"data.txt\"\n",
    "read_filecontent(filedata)\n",
    "    "
   ]
  },
  {
   "cell_type": "code",
   "execution_count": 5,
   "metadata": {},
   "outputs": [
    {
     "name": "stdout",
     "output_type": "stream",
     "text": [
      "mstp apssdchow r u\n",
      "\n"
     ]
    }
   ],
   "source": [
    "f=open(\"data.txt\",'r')\n",
    "x=f.readline()\n",
    "print(x)"
   ]
  },
  {
   "cell_type": "code",
   "execution_count": 6,
   "metadata": {},
   "outputs": [
    {
     "name": "stdout",
     "output_type": "stream",
     "text": [
      "['mstp apssdchow r u\\n', 'how r u\\n', 'how r u\\n', 'python\\n', '\\n', 'how r u\\n', 'python'] "
     ]
    }
   ],
   "source": [
    "f=open(\"data.txt\",'r')\n",
    "z=f.readlines()\n",
    "print(z,end=\" \")"
   ]
  },
  {
   "cell_type": "code",
   "execution_count": 8,
   "metadata": {},
   "outputs": [
    {
     "name": "stdout",
     "output_type": "stream",
     "text": [
      "mstp apssdchow r u\n",
      " how r u\n",
      " how r u\n",
      " python\n",
      " \n",
      " how r u\n",
      " python "
     ]
    }
   ],
   "source": [
    "## Acessing all content line by line\n",
    "f=open(\"data.txt\",'r')\n",
    "z=f.readlines()\n",
    "for i in z:\n",
    "    print(i,end=\" \")"
   ]
  },
  {
   "cell_type": "code",
   "execution_count": 10,
   "metadata": {},
   "outputs": [
    {
     "name": "stdout",
     "output_type": "stream",
     "text": [
      "['mstp apssdchow r u\\n', 'how r u\\n', 'how r u\\n', 'python\\n', '\\n', 'how r u\\n', 'python']\n",
      "mstp apssdchow r u\n",
      " how r u\n",
      " how r u\n",
      " python\n",
      " \n",
      " how r u\n",
      " python "
     ]
    }
   ],
   "source": [
    "## Accessing all content line by line in functions\n",
    "def get_elements(filedata):\n",
    "    with open(\"data.txt\",'r') as filedata:\n",
    "        f=filedata.readlines()\n",
    "        print(f)\n",
    "        for i in f:\n",
    "        #for i in range(len(f)):\n",
    "            print(i,end=\" \")\n",
    "filedata=\"data.txt\"\n",
    "get_elements(filedata)\n",
    "        "
   ]
  },
  {
   "cell_type": "code",
   "execution_count": 11,
   "metadata": {},
   "outputs": [
    {
     "name": "stdout",
     "output_type": "stream",
     "text": [
      "7\n"
     ]
    }
   ],
   "source": [
    "#lines count\n",
    "\n",
    "def lines_count(filedata):\n",
    "    count=0\n",
    "    with open(\"data.txt\",'r') as filedata:\n",
    "        f=filedata.readlines()\n",
    "        for i in f:\n",
    "            count=count+1\n",
    "        print(count)\n",
    "f=\"data.txt\"\n",
    "lines_count(filedata)\n",
    "        \n",
    "        \n",
    "        \n",
    "\n",
    "\n",
    "\n"
   ]
  },
  {
   "cell_type": "code",
   "execution_count": 15,
   "metadata": {},
   "outputs": [
    {
     "name": "stdout",
     "output_type": "stream",
     "text": [
      "57\n"
     ]
    }
   ],
   "source": [
    "#characters count\n",
    "def characters_count(filedata):\n",
    "    count=0\n",
    "    with open(\"data.txt\",'r') as filedata:\n",
    "        f=filedata.read()\n",
    "        for i in f:\n",
    "            count=count+1\n",
    "        print(count)\n",
    "f=\"data.txt\"\n",
    "characters_count(filedata)\n",
    "    \n"
   ]
  },
  {
   "cell_type": "code",
   "execution_count": 38,
   "metadata": {},
   "outputs": [
    {
     "ename": "SyntaxError",
     "evalue": "invalid syntax (<ipython-input-38-60cc6e266ab0>, line 9)",
     "output_type": "error",
     "traceback": [
      "\u001b[1;36m  File \u001b[1;32m\"<ipython-input-38-60cc6e266ab0>\"\u001b[1;36m, line \u001b[1;32m9\u001b[0m\n\u001b[1;33m    words_count(\"data.txt\")\u001b[0m\n\u001b[1;37m              ^\u001b[0m\n\u001b[1;31mSyntaxError\u001b[0m\u001b[1;31m:\u001b[0m invalid syntax\n"
     ]
    }
   ],
   "source": [
    "#words count\n",
    "#file length\n",
    "\n",
    "def words_count(filedata):\n",
    "    count=0\n",
    "    with open(\"data.txt\",'r') as filedata:\n",
    "        f=filedata.read()\n",
    "        for i in f:\n",
    "            count=count+1\n",
    "        print(count)\n",
    "f=\"data.txt\"\n",
    "characters_count(filedata)\n",
    "    \n",
    "        "
   ]
  },
  {
   "cell_type": "code",
   "execution_count": null,
   "metadata": {},
   "outputs": [],
   "source": []
  },
  {
   "cell_type": "code",
   "execution_count": null,
   "metadata": {},
   "outputs": [],
   "source": []
  }
 ],
 "metadata": {
  "kernelspec": {
   "display_name": "Python 3",
   "language": "python",
   "name": "python3"
  },
  "language_info": {
   "codemirror_mode": {
    "name": "ipython",
    "version": 3
   },
   "file_extension": ".py",
   "mimetype": "text/x-python",
   "name": "python",
   "nbconvert_exporter": "python",
   "pygments_lexer": "ipython3",
   "version": "3.7.3"
  }
 },
 "nbformat": 4,
 "nbformat_minor": 2
}
