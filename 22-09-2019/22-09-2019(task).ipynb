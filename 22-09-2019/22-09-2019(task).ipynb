{
 "cells": [
  {
   "cell_type": "markdown",
   "metadata": {},
   "source": [
    "# Question 1:\n",
    "1.Write a python program which accepts the user's first and last name and print them in reverse order with a space between them."
   ]
  },
  {
   "cell_type": "code",
   "execution_count": 4,
   "metadata": {},
   "outputs": [
    {
     "name": "stdout",
     "output_type": "stream",
     "text": [
      "akula Harshitha\n"
     ]
    }
   ],
   "source": [
    "c=\"Harshitha\"\n",
    "d=\"akula\"\n",
    "print(d,c)"
   ]
  },
  {
   "cell_type": "markdown",
   "metadata": {},
   "source": [
    "# Question 2:\n",
    "2.write a python program to accept a filename from the user and print the extension of that"
   ]
  },
  {
   "cell_type": "code",
   "execution_count": 4,
   "metadata": {},
   "outputs": [
    {
     "name": "stdout",
     "output_type": "stream",
     "text": [
      "abc.java\n",
      "java\n"
     ]
    }
   ],
   "source": [
    "m=input()\n",
    "n=m.split('.')\n",
    "o=n[1]\n",
    "print(o)"
   ]
  },
  {
   "cell_type": "markdown",
   "metadata": {},
   "source": [
    "# Question 3:\n",
    "3.Write a python program that accepts an integer(n) and computes the value of n+nn+nnn"
   ]
  },
  {
   "cell_type": "code",
   "execution_count": 5,
   "metadata": {},
   "outputs": [
    {
     "name": "stdout",
     "output_type": "stream",
     "text": [
      "5\n",
      "55\n",
      "555\n",
      "615\n"
     ]
    }
   ],
   "source": [
    "n=int(input())\n",
    "nn=int(input())\n",
    "nnn=int(input())\n",
    "print(n+nn+nnn)"
   ]
  },
  {
   "cell_type": "markdown",
   "metadata": {},
   "source": [
    "# Question 4:\n",
    "4.Write a python program to get a single string from two given strings,separated by a space and swap the first two characters of a string"
   ]
  },
  {
   "cell_type": "code",
   "execution_count": 3,
   "metadata": {},
   "outputs": [
    {
     "name": "stdout",
     "output_type": "stream",
     "text": [
      "'abc xyz'\n",
      "[\"'abc\", \"xyz'\"]\n",
      "'xyc abz'\n"
     ]
    }
   ],
   "source": [
    "m=(input())\n",
    "r=m.split(\" \")\n",
    "print(r)\n",
    "r1=r[0].replace(\"ab\",\"xy\")\n",
    "r2=r[1].replace(\"xy\",\"ab\")\n",
    "print(r1,r2)"
   ]
  },
  {
   "cell_type": "markdown",
   "metadata": {},
   "source": [
    "# Question 5:\n",
    "5.Write a python script that takes input from the user and displays that input back in upper and lower cases"
   ]
  },
  {
   "cell_type": "code",
   "execution_count": 1,
   "metadata": {},
   "outputs": [
    {
     "name": "stdout",
     "output_type": "stream",
     "text": [
      "UHYGY jntyyfgyug\n",
      "uhygy JNTYYFGYUG\n"
     ]
    }
   ],
   "source": [
    "y=input()\n",
    "print(y.swapcase())\n"
   ]
  },
  {
   "cell_type": "markdown",
   "metadata": {},
   "source": [
    "# Question 6:\n",
    "6.Write a python program to lowercase first n characters in a string"
   ]
  },
  {
   "cell_type": "code",
   "execution_count": 6,
   "metadata": {},
   "outputs": [
    {
     "name": "stdout",
     "output_type": "stream",
     "text": [
      "harshITHA.COM\n"
     ]
    }
   ],
   "source": [
    "str1='HARSHITHA.COM'\n",
    "print(str1[:5].lower() + str1[5:])"
   ]
  },
  {
   "cell_type": "code",
   "execution_count": null,
   "metadata": {},
   "outputs": [],
   "source": []
  }
 ],
 "metadata": {
  "kernelspec": {
   "display_name": "Python 3",
   "language": "python",
   "name": "python3"
  },
  "language_info": {
   "codemirror_mode": {
    "name": "ipython",
    "version": 3
   },
   "file_extension": ".py",
   "mimetype": "text/x-python",
   "name": "python",
   "nbconvert_exporter": "python",
   "pygments_lexer": "ipython3",
   "version": "3.7.3"
  }
 },
 "nbformat": 4,
 "nbformat_minor": 2
}
